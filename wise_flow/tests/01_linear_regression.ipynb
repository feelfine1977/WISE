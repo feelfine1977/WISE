{
 "cells": [
  {
   "cell_type": "code",
   "execution_count": 28,
   "metadata": {},
   "outputs": [],
   "source": [
    "import pandas as pd\n",
    "import numpy as np\n",
    "import pm4py\n",
    "import matplotlib.pyplot as plt\n",
    "import seaborn as sns\n",
    "import ipywidgets as widgets\n",
    "from IPython.display import display\n",
    "import ipywidgets as widgets\n",
    "from ipywidgets import interactive\n",
    "import seaborn as sns\n",
    "import matplotlib.pyplot as plt\n",
    "from matplotlib.ticker import FuncFormatter\n",
    "import numpy as np\n",
    "import pandas as pd\n",
    "\n",
    "from pm4py.algo.transformation.log_to_features import algorithm as log_to_features\n",
    "from pm4py.algo.transformation.log_to_features.variants.event_based import extract_all_ev_features_names_from_log\n",
    "from pm4py.objects.log.util import interval_lifecycle\n",
    "from pm4py.util import constants\n",
    "\n",
    "from helper import create_sample\n",
    "\n",
    "DICT = {'3-way match, invoice after GR':'DF1', '3-way match, invoice before GR':'DF2', '2-way match':'DF3', 'Consignment':'DF4'}\n",
    "WINDOWS = False\n",
    "VERSION = 'DF1'"
   ]
  },
  {
   "cell_type": "code",
   "execution_count": 29,
   "metadata": {},
   "outputs": [
    {
     "name": "stdout",
     "output_type": "stream",
     "text": [
      "event_log length: 63\n"
     ]
    }
   ],
   "source": [
    "df = create_sample(num_cases=10000, Windows=WINDOWS, version=VERSION)\n",
    "dataframe = pm4py.format_dataframe(df, case_id='case_concept_name', activity_key='event_concept_name', timestamp_key='event_time_timestamp')\n",
    "event_log = pm4py.convert_to_event_log(dataframe)\n",
    "print(f\"event_log length: {len(event_log)}\")"
   ]
  },
  {
   "cell_type": "markdown",
   "metadata": {},
   "source": [
    "Here are a few important questions that we might\n",
    "seek to address:\n",
    "1. Is there a relationship between advertising budget and sales?\n",
    "Our first goal should be to determine whether the data provide evidence\n",
    "of an association between advertising expenditure and sales. If\n",
    "the evidence is weak, then one might argue that no money should be\n",
    "spent on advertising!\n",
    "2. How strong is the relationship between advertising budget and sales?\n",
    "Assuming that there is a relationship between advertising and sales,\n",
    "we would like to know the strength of this relationship. Does knowledge\n",
    "of the advertising budget provide a lot of information about\n",
    "product sales?\n",
    "3. Which media are associated with sales?\n",
    "Are all three media—TV, radio, and newspaper—associated with\n",
    "sales, or are just one or two of the media associated? To answer this\n",
    "question, we must find a way to separate out the individual contribution\n",
    "of each medium to sales when we have spent money on all three\n",
    "media.\n",
    "4. How large is the association between each medium and sales?\n",
    "For every dollar spent on advertising in a particular medium, by\n",
    "what amount will sales increase? How accurately can we predict this\n",
    "amount of increase?\n",
    "5. How accurately can we predict future sales?\n",
    "For any given level of television, radio, or newspaper advertising, what\n",
    "is our prediction for sales, and what is the accuracy of this prediction?\n",
    "6. Is the relationship linear?\n",
    "If there is approximately a straight-line relationship between advertising\n",
    "expenditure in the various media and sales, then linear regression\n",
    "is an appropriate tool. If not, then it may still be possible to transform\n",
    "the predictor or the response so that linear regression can be\n",
    "used.\n",
    "7. Is there synergy among the advertising media?\n",
    "Perhaps spending $50,000 on television advertising and $50,000 on radio\n",
    "advertising is associated with higher sales than allocating $100,000\n",
    "to either television or radio individually. In marketing, this is known\n",
    "as a synergy effect, while in statistics it is called an interaction effect.\n"
   ]
  },
  {
   "cell_type": "markdown",
   "metadata": {},
   "source": [
    "### Data exploration\n",
    "\n",
    "Exploring your dataframe to assess its suitability for linear regression involves several steps. Linear regression assumes a linear relationship between the independent variables (features) and the dependent variable (target). Here's a structured approach to explore your data:\n",
    "\n",
    "1. Understanding Your Data\n",
    "Summary Statistics: Use .describe() to get summary statistics for numerical columns. This includes count, mean, standard deviation, minimum, and maximum values. Look for any anomalies or outliers that might need addressing.\n",
    "Data Types: Check the data types of each column with .info() to ensure they are appropriate for the analysis (e.g., numerical data for the features and target variable for regression).\n",
    "2. Visual Exploration\n",
    "Histograms: Plot histograms for your features and target variable to understand the distributions. Linear regression assumes a normal (or near-normal) distribution of variables.\n",
    "Scatter Plots: Create scatter plots between each feature and the target variable. This helps in visually inspecting the linear relationship between variables.\n",
    "Correlation Matrix: Use .corr() to generate a correlation matrix and visualize it using a heatmap. High correlation between a feature and the target suggests a potential predictor, while high correlation between features indicates multicollinearity, which could be problematic.\n",
    "3. Checking for Linearity\n",
    "The core assumption of linear regression is that there is a linear relationship between the predictors and the response variable. You can:\n",
    "\n",
    "Plot scatter plots to visually check for a linear relationship.\n",
    "Calculate correlation coefficients to measure the strength and direction of the linear relationships.\n",
    "4. Assessing Multicollinearity\n",
    "Variance Inflation Factor (VIF): Calculate the VIF for your features. A VIF value greater than 10 (some suggest a stricter threshold of 5) indicates high multicollinearity that could undermine the performance of a linear regression model.\n",
    "5. Outliers and Leverage Points\n",
    "Outliers: Outliers can significantly affect the fit of a linear regression model. Use box plots or Z-scores to identify outliers in your data.\n",
    "Leverage Points: Points that have an unusual combination of predictor values can unduly influence the model. Leverage plots can help identify these.\n",
    "6. Homoscedasticity and Normality of Residuals\n",
    "Homoscedasticity: The variance of error terms should be constant across all levels of the independent variables. You can check this assumption by plotting residuals vs. predicted values.\n",
    "Normality of Residuals: The residuals should normally be distributed. This can be checked using a Q-Q plot or a normality test like the Shapiro-Wilk test.\n",
    "7. Data Preprocessing\n",
    "Handling Missing Values: Decide on a strategy for handling missing data, which might include imputation or removal of rows/columns.\n",
    "Feature Engineering: Consider creating new features that might better capture the linear relationship with the target variable.\n",
    "Scaling/Normalization: Linear regression doesn’t require it for fitting the model, but it can be important for regularization techniques like Ridge or Lasso."
   ]
  },
  {
   "cell_type": "code",
   "execution_count": 30,
   "metadata": {},
   "outputs": [
    {
     "name": "stdout",
     "output_type": "stream",
     "text": [
      "<class 'pandas.core.frame.DataFrame'>\n",
      "Index: 1455 entries, 0 to 6547\n",
      "Data columns (total 28 columns):\n",
      " #   Column                            Non-Null Count  Dtype              \n",
      "---  ------                            --------------  -----              \n",
      " 0   eventID                           1455 non-null   int64              \n",
      " 1   case_Spend_area_text              1455 non-null   object             \n",
      " 2   case_Company                      1455 non-null   object             \n",
      " 3   case_Document_Type                1455 non-null   object             \n",
      " 4   case_Sub_spend_area_text          1455 non-null   object             \n",
      " 5   case_Purchasing_Document          1455 non-null   int64              \n",
      " 6   case_Purch._Doc._Category_name    1455 non-null   object             \n",
      " 7   case_Vendor                       1455 non-null   object             \n",
      " 8   case_Item_Type                    1455 non-null   object             \n",
      " 9   case_Item_Category                1455 non-null   object             \n",
      " 10  case_Spend_classification_text    1455 non-null   object             \n",
      " 11  case_Source                       1455 non-null   object             \n",
      " 12  case_Name                         1455 non-null   object             \n",
      " 13  case_GR-Based_Inv._Verif.         1455 non-null   bool               \n",
      " 14  case_Item                         1455 non-null   int64              \n",
      " 15  case_concept_name                 1455 non-null   object             \n",
      " 16  case_Goods_Receipt                1455 non-null   bool               \n",
      " 17  event_User                        1455 non-null   object             \n",
      " 18  event_org_resource                1455 non-null   object             \n",
      " 19  event_concept_name                1455 non-null   object             \n",
      " 20  event_Cumulative_net_worth_(EUR)  1455 non-null   float64            \n",
      " 21  event_time_timestamp              1455 non-null   datetime64[ns, UTC]\n",
      " 22  @@index                           1455 non-null   int64              \n",
      " 23  @@case_index                      1455 non-null   int64              \n",
      " 24  log_type                          1455 non-null   object             \n",
      " 25  case:concept:name                 1455 non-null   object             \n",
      " 26  concept:name                      1455 non-null   object             \n",
      " 27  time:timestamp                    1455 non-null   datetime64[ns, UTC]\n",
      "dtypes: bool(2), datetime64[ns, UTC](2), float64(1), int64(5), object(18)\n",
      "memory usage: 309.8+ KB\n"
     ]
    }
   ],
   "source": [
    "df.info()"
   ]
  },
  {
   "cell_type": "code",
   "execution_count": 44,
   "metadata": {},
   "outputs": [
    {
     "name": "stdout",
     "output_type": "stream",
     "text": [
      "features length: 63\n",
      "['event:case_Document_Type@EC Purchase order', 'event:case_Document_Type@Framework order', 'event:case_Document_Type@Standard PO', 'event:case_Spend_classification_text@NPR', 'event:case_Spend_classification_text@PR', 'event:case_Item_Type@Service', 'event:case_Item_Type@Standard', 'event:case_Item_Type@Subcontracting', 'event:case_Item_Type@Third-party', 'event:case_Purch._Doc._Category_name@Purchase order', 'event:case_Company@companyID_0000', 'event:case_Spend_area_text@Additives', 'event:case_Spend_area_text@CAPEX & SOCS', 'event:case_Spend_area_text@Enterprise Services', 'event:case_Spend_area_text@Latex & Monomers', 'event:case_Spend_area_text@Logistics', 'event:case_Spend_area_text@Marketing', 'event:case_Spend_area_text@Packaging', 'event:case_Spend_area_text@Sales', 'event:case_Spend_area_text@Trading & End Products', 'event:case_Item_Category@3-way match, invoice after GR', 'event:case_Source@sourceSystemID_0000', 'event:log_type@DF1', 'event:event_concept_name@Cancel Goods Receipt', 'event:event_concept_name@Cancel Invoice Receipt', 'event:event_concept_name@Change Price', 'event:event_concept_name@Clear Invoice', 'event:event_concept_name@Create Purchase Order Item', 'event:event_concept_name@Create Purchase Requisition Item', 'event:event_concept_name@Delete Purchase Order Item', 'event:event_concept_name@Record Goods Receipt', 'event:event_concept_name@Record Invoice Receipt', 'event:event_concept_name@Record Service Entry Sheet', 'event:event_concept_name@Remove Payment Block', 'event:event_concept_name@SRM: Awaiting Approval', 'event:event_concept_name@SRM: Change was Transmitted', 'event:event_concept_name@SRM: Complete', 'event:event_concept_name@SRM: Created', 'event:event_concept_name@SRM: Deleted', 'event:event_concept_name@SRM: Document Completed', 'event:event_concept_name@SRM: In Transfer to Execution Syst.', 'event:event_concept_name@SRM: Ordered', 'event:event_concept_name@SRM: Transfer Failed (E.Sys.)', 'event:event_concept_name@Vendor creates debit memo', 'event:event_concept_name@Vendor creates invoice', 'event:eventID', 'event:case_Item', 'event:@@index', 'event:@@case_index', 'event:case_Purchasing_Document', 'event:event_Cumulative_net_worth_(EUR)', 'succession:event_concept_name@Cancel Goods Receipt#Cancel Goods Receipt', 'succession:event_concept_name@Cancel Goods Receipt#Clear Invoice', 'succession:event_concept_name@Cancel Goods Receipt#Record Invoice Receipt', 'succession:event_concept_name@Cancel Goods Receipt#Record Service Entry Sheet', 'succession:event_concept_name@Cancel Invoice Receipt#Clear Invoice', 'succession:event_concept_name@Cancel Invoice Receipt#Record Invoice Receipt', 'succession:event_concept_name@Cancel Invoice Receipt#Vendor creates debit memo', 'succession:event_concept_name@Change Price#SRM: Deleted', 'succession:event_concept_name@Change Price#SRM: Ordered', 'succession:event_concept_name@Change Price#Vendor creates invoice', 'succession:event_concept_name@Clear Invoice#Cancel Invoice Receipt', 'succession:event_concept_name@Clear Invoice#Clear Invoice', 'succession:event_concept_name@Clear Invoice#Create Purchase Order Item', 'succession:event_concept_name@Clear Invoice#Record Goods Receipt', 'succession:event_concept_name@Clear Invoice#Record Invoice Receipt', 'succession:event_concept_name@Clear Invoice#Record Service Entry Sheet', 'succession:event_concept_name@Clear Invoice#Remove Payment Block', 'succession:event_concept_name@Clear Invoice#SRM: Created', 'succession:event_concept_name@Clear Invoice#SRM: Deleted', 'succession:event_concept_name@Clear Invoice#Vendor creates debit memo', 'succession:event_concept_name@Clear Invoice#Vendor creates invoice', 'succession:event_concept_name@Create Purchase Order Item#Change Price', 'succession:event_concept_name@Create Purchase Order Item#Clear Invoice', 'succession:event_concept_name@Create Purchase Order Item#Delete Purchase Order Item', 'succession:event_concept_name@Create Purchase Order Item#Record Goods Receipt', 'succession:event_concept_name@Create Purchase Order Item#Record Invoice Receipt', 'succession:event_concept_name@Create Purchase Order Item#Record Service Entry Sheet', 'succession:event_concept_name@Create Purchase Order Item#SRM: Ordered', 'succession:event_concept_name@Create Purchase Order Item#Vendor creates invoice', 'succession:event_concept_name@Create Purchase Requisition Item#Create Purchase Order Item', 'succession:event_concept_name@Record Goods Receipt#Cancel Goods Receipt', 'succession:event_concept_name@Record Goods Receipt#Change Price', 'succession:event_concept_name@Record Goods Receipt#Clear Invoice', 'succession:event_concept_name@Record Goods Receipt#Create Purchase Order Item', 'succession:event_concept_name@Record Goods Receipt#Record Goods Receipt', 'succession:event_concept_name@Record Goods Receipt#Record Invoice Receipt', 'succession:event_concept_name@Record Goods Receipt#Record Service Entry Sheet', 'succession:event_concept_name@Record Goods Receipt#Remove Payment Block', 'succession:event_concept_name@Record Goods Receipt#Vendor creates invoice', 'succession:event_concept_name@Record Invoice Receipt#Cancel Goods Receipt', 'succession:event_concept_name@Record Invoice Receipt#Cancel Invoice Receipt', 'succession:event_concept_name@Record Invoice Receipt#Change Price', 'succession:event_concept_name@Record Invoice Receipt#Clear Invoice', 'succession:event_concept_name@Record Invoice Receipt#Create Purchase Order Item', 'succession:event_concept_name@Record Invoice Receipt#Record Goods Receipt', 'succession:event_concept_name@Record Invoice Receipt#Record Invoice Receipt', 'succession:event_concept_name@Record Invoice Receipt#Record Service Entry Sheet', 'succession:event_concept_name@Record Invoice Receipt#Remove Payment Block', 'succession:event_concept_name@Record Invoice Receipt#SRM: In Transfer to Execution Syst.', 'succession:event_concept_name@Record Invoice Receipt#Vendor creates debit memo', 'succession:event_concept_name@Record Invoice Receipt#Vendor creates invoice', 'succession:event_concept_name@Record Service Entry Sheet#Cancel Goods Receipt', 'succession:event_concept_name@Record Service Entry Sheet#Clear Invoice', 'succession:event_concept_name@Record Service Entry Sheet#Create Purchase Order Item', 'succession:event_concept_name@Record Service Entry Sheet#Record Goods Receipt', 'succession:event_concept_name@Record Service Entry Sheet#Record Invoice Receipt', 'succession:event_concept_name@Record Service Entry Sheet#Record Service Entry Sheet', 'succession:event_concept_name@Record Service Entry Sheet#SRM: Created', 'succession:event_concept_name@Record Service Entry Sheet#Vendor creates invoice', 'succession:event_concept_name@Remove Payment Block#Clear Invoice', 'succession:event_concept_name@Remove Payment Block#Record Invoice Receipt', 'succession:event_concept_name@Remove Payment Block#Remove Payment Block', 'succession:event_concept_name@Remove Payment Block#SRM: Created', 'succession:event_concept_name@SRM: Awaiting Approval#Create Purchase Order Item', 'succession:event_concept_name@SRM: Awaiting Approval#SRM: Complete', 'succession:event_concept_name@SRM: Awaiting Approval#SRM: Document Completed', 'succession:event_concept_name@SRM: Awaiting Approval#SRM: In Transfer to Execution Syst.', 'succession:event_concept_name@SRM: Change was Transmitted#Create Purchase Order Item', 'succession:event_concept_name@SRM: Change was Transmitted#SRM: Awaiting Approval', 'succession:event_concept_name@SRM: Change was Transmitted#Vendor creates invoice', 'succession:event_concept_name@SRM: Complete#SRM: Awaiting Approval', 'succession:event_concept_name@SRM: Complete#SRM: Document Completed', 'succession:event_concept_name@SRM: Complete#SRM: Ordered', 'succession:event_concept_name@SRM: Created#SRM: Awaiting Approval', 'succession:event_concept_name@SRM: Created#SRM: Complete', 'succession:event_concept_name@SRM: Created#SRM: In Transfer to Execution Syst.', 'succession:event_concept_name@SRM: Deleted#Clear Invoice', 'succession:event_concept_name@SRM: Deleted#SRM: In Transfer to Execution Syst.', 'succession:event_concept_name@SRM: Document Completed#Clear Invoice', 'succession:event_concept_name@SRM: Document Completed#Create Purchase Order Item', 'succession:event_concept_name@SRM: Document Completed#Record Invoice Receipt', 'succession:event_concept_name@SRM: Document Completed#SRM: Awaiting Approval', 'succession:event_concept_name@SRM: Document Completed#SRM: Ordered', 'succession:event_concept_name@SRM: In Transfer to Execution Syst.#Change Price', 'succession:event_concept_name@SRM: In Transfer to Execution Syst.#SRM: Change was Transmitted', 'succession:event_concept_name@SRM: In Transfer to Execution Syst.#SRM: Complete', 'succession:event_concept_name@SRM: In Transfer to Execution Syst.#SRM: Ordered', 'succession:event_concept_name@SRM: In Transfer to Execution Syst.#SRM: Transfer Failed (E.Sys.)', 'succession:event_concept_name@SRM: Ordered#Change Price', 'succession:event_concept_name@SRM: Ordered#Record Goods Receipt', 'succession:event_concept_name@SRM: Ordered#SRM: Change was Transmitted', 'succession:event_concept_name@SRM: Ordered#SRM: In Transfer to Execution Syst.', 'succession:event_concept_name@SRM: Ordered#Vendor creates invoice', 'succession:event_concept_name@SRM: Transfer Failed (E.Sys.)#Record Invoice Receipt', 'succession:event_concept_name@Vendor creates debit memo#Clear Invoice', 'succession:event_concept_name@Vendor creates debit memo#Record Invoice Receipt', 'succession:event_concept_name@Vendor creates debit memo#SRM: Created', 'succession:event_concept_name@Vendor creates debit memo#Vendor creates invoice', 'succession:event_concept_name@Vendor creates invoice#Cancel Invoice Receipt', 'succession:event_concept_name@Vendor creates invoice#Clear Invoice', 'succession:event_concept_name@Vendor creates invoice#Create Purchase Order Item', 'succession:event_concept_name@Vendor creates invoice#Record Goods Receipt', 'succession:event_concept_name@Vendor creates invoice#Record Invoice Receipt', 'succession:event_concept_name@Vendor creates invoice#Record Service Entry Sheet', 'succession:event_concept_name@Vendor creates invoice#Remove Payment Block', 'succession:event_concept_name@Vendor creates invoice#Vendor creates debit memo', 'succession:event_concept_name@Vendor creates invoice#Vendor creates invoice']\n",
      "[[1, 0, 0, 1, 0, 1, 0, 0, 0, 1, 1, 0, 0, 0, 0, 0, 1, 0, 0, 0, 1, 1, 1, 1, 1, 1, 1, 1, 0, 0, 1, 1, 1, 1, 1, 1, 1, 1, 1, 1, 1, 1, 1, 1, 1, 536870912462, 1, 463, 0, 2000000100, 7815013.0, 0, 1, 1, 0, 1, 1, 0, 1, 1, 0, 1, 1, 0, 1, 1, 1, 0, 1, 1, 1, 1, 0, 0, 0, 0, 0, 0, 0, 1, 0, 1, 0, 1, 0, 1, 1, 1, 0, 1, 1, 1, 1, 1, 0, 1, 1, 1, 1, 1, 1, 1, 0, 1, 0, 1, 1, 1, 1, 1, 0, 0, 0, 1, 0, 1, 1, 1, 1, 0, 0, 1, 1, 0, 1, 1, 0, 1, 1, 1, 0, 1, 1, 1, 1, 1, 0, 1, 1, 1, 1, 0, 1, 1, 1, 0, 1, 1, 1, 1, 0, 0, 0, 1, 0, 0, 1, 1]]\n",
      "['event:case_Document_Type@EC Purchase order', 'event:case_Document_Type@Framework order', 'event:case_Document_Type@Standard PO']\n",
      "   event:case_Document_Type@EC Purchase order  \\\n",
      "0                                           1   \n",
      "1                                           1   \n",
      "2                                           1   \n",
      "3                                           0   \n",
      "4                                           0   \n",
      "\n",
      "   event:case_Document_Type@Framework order  \\\n",
      "0                                         0   \n",
      "1                                         0   \n",
      "2                                         0   \n",
      "3                                         0   \n",
      "4                                         0   \n",
      "\n",
      "   event:case_Document_Type@Standard PO  \n",
      "0                                     0  \n",
      "1                                     0  \n",
      "2                                     0  \n",
      "3                                     1  \n",
      "4                                     1  \n"
     ]
    }
   ],
   "source": [
    "#use pm4py to extract features\n",
    "data, feature_names = log_to_features.apply(event_log, parameters={constants.PARAMETER_CONSTANT_ACTIVITY_KEY: 'event_concept_name', constants.PARAMETER_CONSTANT_CASEID_KEY: 'case_concept_name', constants.PARAMETER_CONSTANT_TIMESTAMP_KEY: 'event_time_timestamp'})\n",
    "print(f\"features length: {len(data)}\")\n",
    "print(feature_names)\n",
    "print(data[:1])\n",
    "#get the feature names that start with 'event:case_Document_Type@' from feature_names and related values from the first five rows of the data\n",
    "\n",
    "# Convert data to pandas DataFrame\n",
    "data = pd.DataFrame(data, columns=feature_names)\n",
    "\n",
    "event_features = [f for f in feature_names if f.startswith('event:case_Document_Type@')]\n",
    "print(event_features)\n",
    "print(data[event_features][:5])\n"
   ]
  },
  {
   "cell_type": "code",
   "execution_count": 51,
   "metadata": {},
   "outputs": [
    {
     "ename": "ImportError",
     "evalue": "cannot import name 'event_names' from 'utils' (/Users/urszulajessen/code/gitHub/WISE/wise_flow/wise/utils/__init__.py)",
     "output_type": "error",
     "traceback": [
      "\u001b[0;31m---------------------------------------------------------------------------\u001b[0m",
      "\u001b[0;31mImportError\u001b[0m                               Traceback (most recent call last)",
      "Cell \u001b[0;32mIn[51], line 14\u001b[0m\n\u001b[1;32m     11\u001b[0m \u001b[38;5;28;01mif\u001b[39;00m parent_dir \u001b[38;5;129;01mnot\u001b[39;00m \u001b[38;5;129;01min\u001b[39;00m sys\u001b[38;5;241m.\u001b[39mpath:\n\u001b[1;32m     12\u001b[0m     sys\u001b[38;5;241m.\u001b[39mpath\u001b[38;5;241m.\u001b[39mappend(parent_dir)\n\u001b[0;32m---> 14\u001b[0m \u001b[38;5;28;01mfrom\u001b[39;00m \u001b[38;5;21;01mwise\u001b[39;00m\u001b[38;5;21;01m.\u001b[39;00m\u001b[38;5;21;01mutils\u001b[39;00m\u001b[38;5;21;01m.\u001b[39;00m\u001b[38;5;21;01mget_features\u001b[39;00m \u001b[38;5;28;01mimport\u001b[39;00m total_number_of_events\n\u001b[1;32m     16\u001b[0m \u001b[38;5;66;03m# Get the total number of events\u001b[39;00m\n\u001b[1;32m     17\u001b[0m total_number_of_events(data, event_features)\n",
      "File \u001b[0;32m~/code/gitHub/WISE/wise_flow/wise/utils/get_features.py:12\u001b[0m\n\u001b[1;32m     10\u001b[0m sys\u001b[38;5;241m.\u001b[39mpath\u001b[38;5;241m.\u001b[39mappend(parent_dir)\n\u001b[1;32m     11\u001b[0m \u001b[38;5;28;01mfrom\u001b[39;00m \u001b[38;5;21;01mpm4py\u001b[39;00m\u001b[38;5;21;01m.\u001b[39;00m\u001b[38;5;21;01mstatistics\u001b[39;00m\u001b[38;5;21;01m.\u001b[39;00m\u001b[38;5;21;01mtraces\u001b[39;00m\u001b[38;5;21;01m.\u001b[39;00m\u001b[38;5;21;01mgeneric\u001b[39;00m\u001b[38;5;21;01m.\u001b[39;00m\u001b[38;5;21;01mlog\u001b[39;00m \u001b[38;5;28;01mimport\u001b[39;00m case_statistics\n\u001b[0;32m---> 12\u001b[0m \u001b[38;5;28;01mfrom\u001b[39;00m \u001b[38;5;21;01mutils\u001b[39;00m \u001b[38;5;28;01mimport\u001b[39;00m event_names, self_loop_per_trace_overview, repetition_per_trace_overview,variant_count_list, variant_list, case_list\n\u001b[1;32m     14\u001b[0m \u001b[38;5;66;03m###############################################################################\u001b[39;00m\n\u001b[1;32m     15\u001b[0m \u001b[38;5;124;03m'''Derived From Linear Structure functions'''\u001b[39;00m\n",
      "\u001b[0;31mImportError\u001b[0m: cannot import name 'event_names' from 'utils' (/Users/urszulajessen/code/gitHub/WISE/wise_flow/wise/utils/__init__.py)"
     ]
    }
   ],
   "source": [
    "import sys\n",
    "import os\n",
    "\n",
    "# Get the current notebook path\n",
    "notebook_path = os.getcwd()\n",
    "\n",
    "# Construct the path to the parent directory\n",
    "parent_dir = os.path.dirname(notebook_path)\n",
    "\n",
    "# Add the parent directory to sys.path\n",
    "if parent_dir not in sys.path:\n",
    "    sys.path.append(parent_dir)\n",
    "\n",
    "from wise.utils.get_features import total_number_of_events\n",
    "\n",
    "# Get the total number of events\n",
    "total_number_of_events(data, event_features)\n"
   ]
  }
 ],
 "metadata": {
  "kernelspec": {
   "display_name": "WISE",
   "language": "python",
   "name": "python3"
  },
  "language_info": {
   "codemirror_mode": {
    "name": "ipython",
    "version": 3
   },
   "file_extension": ".py",
   "mimetype": "text/x-python",
   "name": "python",
   "nbconvert_exporter": "python",
   "pygments_lexer": "ipython3",
   "version": "3.11.8"
  }
 },
 "nbformat": 4,
 "nbformat_minor": 2
}
